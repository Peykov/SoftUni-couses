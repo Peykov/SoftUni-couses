{
 "cells": [
  {
   "cell_type": "markdown",
   "metadata": {},
   "source": [
    "# A1 interview preparation v1"
   ]
  },
  {
   "cell_type": "markdown",
   "metadata": {},
   "source": [
    "### Risk estimation, CHURN prevention and traffic anomaly detection projects for Telecom company\n",
    "\n",
    "- DataSci tech: Jupyter, Pandas, SKlearn, XGB, Keras, Statsmodels, Time series analysis, matplotlib, plotly\n",
    "- DevOps tech: Python, Linux, Docker, Flask, SQL integrations with Teradata, Oracle, MSSQL and MySQL servers, Git"
   ]
  },
  {
   "cell_type": "markdown",
   "metadata": {},
   "source": [
    "#### For the project Something for Fraoud Detection with XGBoost \n",
    "https://www.kaggle.com/code/faressayah/credit-card-fraud-detection-anns-vs-xgboost"
   ]
  },
  {
   "cell_type": "markdown",
   "metadata": {},
   "source": [
    "\n",
    "### Key Concepts and Skills\n",
    "\n",
    "#### Mathematics    \n",
    "1. Calculus - understanding derivatives and integrals\n",
    "2. Linear Algebra - vector spaces, matrices, eigenvalues and eigenvectors\n",
    "3. Probability Theory - Bayes' theorem, conditional probability, distributions\n",
    "\n",
    "\n",
    "\n",
    "### Python\n",
    "- Search Python questions for datascience interview\n",
    "- The small book with examples\n",
    "- Check Mathematics and Ds course \n",
    "\n",
    "1. Basic Python - variables, \n",
    "2. Data Structures - lists, tuples, sets, dictionaries\n",
    "3. Functional Programming - map, filter, lambda functions, list comprehension\n",
    "4. Object-Oriented Programming - classes, objects, inheritance, polymorphism, encapsulation\n",
    "5. Advanced Python - decorators, generators, currying, closures\n",
    "\n",
    "DSci Part\n",
    "\n",
    "1. Data Manipulation - NumPy, pandas\n",
    "2. Data Visualization - Matplotlib\n",
    "3. Machine Learning Libraries - scikit-learn, Keras\n",
    "\n",
    "#### Specific to Risk Estimation and Anomaly Detection\n",
    "1. Regression Analysis\n",
    "- Kaggle notebook for skewed unblanced example of anomaly detection dataset\n",
    "- https://www.kaggle.com/mlg-ulb/creditcardfraud \n",
    "- What is the problem with unbalanced data?\n",
    "\n",
    "\n"
   ]
  },
  {
   "cell_type": "code",
   "execution_count": null,
   "metadata": {},
   "outputs": [],
   "source": []
  },
  {
   "cell_type": "markdown",
   "metadata": {},
   "source": [
    "## Mathematics \n",
    "\n",
    "1. Linear Algebra: Vectors, Vector spaces, Linear Transformations, Matrices, Eigenvalues and Eigenvectors\n",
    "- \n",
    "- Linear and Affine Transformations\n",
    "    - Differences: The linear transformation preserves the origin, while the affine transformation does not.\n",
    "2. Calculus: Derivatives, Integrals, Limits, Gradien Descent\n",
    "\n",
    "3. "
   ]
  },
  {
   "cell_type": "markdown",
   "metadata": {},
   "source": [
    "### 1. Linear Algebra\n",
    "\n",
    "- **Vector Space**: \n",
    "    \n",
    "    Съвкупност от вектори които се подчиняват на определени правила когато се извършват операции с тях. Тези правила осигуряват свойстовто че всяка комбинация от събиране или умножение между тях дава вектор в същото пространство. В ML всяко наблюдение (точка от данните) е \"n\" измерен вектор в пространството. Всички вектори формират векторното пространство където данните живеят (feature space)\n",
    "\n",
    "    Feature Space: \n",
    "- **Базисни Вектори**:\n",
    "\n",
    "    \"Building blocks\" на конкретното векторно пространвто. Всички вектори от съответното векторно пространстов могат да се представят като Линейна комбинация на базисните вектори\n",
    "    Basis Vectores are the vectors that span that future space. Each axis of the feature space is a basis vector. They are orthogonal to each other. The and linearly independent, normalized to unit length. \n",
    "- **Eigen Vectors** (собствени вектори) \n",
    "    Спецефични вектори за една квадратна матрица които само се разтягат и свиват след умножение с тази матрица, не я ротират\n",
    "    **Eigen value** e стойността която убослявя степента на разтягане или свиване на съответния собствен вектор\n",
    "    - Собствените вектори описват посоката на най-голямото разтягане на матрицата\n",
    "    - Собствените вектори могат да бъдат базисни ако са линейно независими\n",
    "    - В Feature space eigen vectors на ковариационната матрица са поските в които данните варират най-много (по-голямата дисперсия) PCA (Principal Component Analysis) нови базисни вектори които запазват максимално инфорамция докато намялят размерността на данните\n",
    "\n",
    "- **Матрици**\n",
    "    Скаларите имат 0 изменост\n",
    "    Векторите имат 1 измерение\n",
    "    Матриците имат 2 измерения\n",
    "    Тензорите имат 3 или повече измерения\n",
    "    - Събиране и изваждане на матрици (еднаква размерност)\n",
    "    - Умножение със скалар \n",
    "    - Транспониране на матрица \n",
    "    - Умножение на матрици (броя на колоните на първата матрица трябва да е равен на броя на редовете на втората матрица) Не е комутативно\n",
    "    - np.array.dot() - умножение на матрици\n",
    "- **Линейни Трансформации** \n",
    "    Мапинг фунцкия между две векторни пространства \n",
    "    - Центъра на координатната система се запазва\n",
    "    - Всички линнии оставт линии (не криви) паралелните линии остават паралелни\n",
    "    - Ако знаем как са трансформирани базисните вектори знаем как са трансформирани всички вектори\n",
    "    - Смяна на базиса и линейна трансфорамцяи е едно и също нещо\n",
    "    - Матрица на линейната трансфорамция (dot product)\n",
    "    - Композитна трансфорамция (много трансформации една след друга) \n",
    "    - Детерминанта на матрица (площта на паралелограма образуван от базисните вектори)\n",
    "    за квадратни матрици - повече инземерния Volume\n",
    "    - Обратна матрица $Т^{-1}T = E$ \n",
    "    - Лоши Матрици ( ако детерминантата е 0) - не може да се обръща губим едно измерение (проецкия)\n",
    "\n",
    "\n"
   ]
  },
  {
   "cell_type": "markdown",
   "metadata": {},
   "source": [
    "### 2. Анализ (Calculus)\n",
    "- **Граница** Клони към, но не достига \n",
    "    - Как се държи функцията в дадена точка. При много малко увеличение на х колко се променя f(x)\n",
    "    - Епсилон-Делта дефиниция\n",
    "    Удобно обяснение е изпозлването производна в дадена точка. При dx -> 0 f(x) се променя със скорост f'(x). При много малка промяна (клоняща към 0) фунцкяита има rate of change еди колко си (наклона на допирателната в тази точка)\n",
    "    - Някой фунцкии в конкретна точка нямат стойност но имат граница\n",
    "    - Някой граници са безкрайни x^2\n",
    "    - Някой граници не съществуват Step function that jumps\n",
    "- **Производна** \n",
    "    - Най-базов пример би бил скоростта на движение на  един обекта. Колко се променя позицията на обекта с infinite small промяна делта във времето.\n",
    "    - Скорост: Скорост на промяна на изминатото разстояние спрямо времето Първа производна\n",
    "    - $ \\frac{df(x)}{dx} = f'(x)$\n",
    "    - $$\\frac{s(t + \\Delta t) - s(t)}{\\Delta t}$$ \n",
    "    - Колкото е по-малка промяната толкова по-точно се измерва скоростта\n",
    "    - The rate of change of the rate of change ( acceleration ) Втора производна\n",
    "    - Производна на точка е число, а произовдна във всички точки е фунцкия\n",
    "    - Производна на константа е 0\n",
    "    - Произвонда на композитна фунцкия е производната на вътрешната фунцкия умножена по производната на външната фунцкия (chain rule)\n",
    "    \n",
    "    $$ f(g(x))' = f'(g(x))g'(x)$$\n",
    "    - Много полезно за намиране на екстремуми (максимуми и минимуми) на фунцкии \n",
    "    - В критичните точки производната е 0 (около тях производната ни дава информация за това дали фунцкията расте или намалява) Знакът на Втората производна ни дава ни дава информация за фунцкяита дали е Конвексна и Конкавна\n",
    "    - Производната на фунцкията в дадена точка е наклона на допирателната в тази точка\n",
    "\n",
    "- **Интеграли**\n",
    "    - Площта под кривата на фунцкията (площта на фигурата образувана от фунцкията и оста на абсцисите) лесно при определен интервал ( PDF пример) и е число, докато при неопределен интервал е фунцкия на x\n",
    "    - Сумата на трапците под кривата (колкото по-малък е $/Delta x$ толкова по-точно се измерва площта) \n",
    "    - Antiderivative - обратна операция на производна. В константа е 0 затова не може да се намери точната стойност на антидериватива, много варианти за константата\n",
    "    - Неопределен интеграл на фунцкия е свъразан с антидериватива и може да бъде обърнат чрез диферинциране (дефиренциране и интегриране са обратни операции)\n",
    "    \n",
    "**Gradient Descent** \n",
    "- Алгоритъм за намиране на минимума на функция. \n",
    "- Градиентът на една фунцкия е вектор съставен от всички частни производни на фунцкията по отделните измерения.\n",
    "- Градиентът ни дава посока в която фунцкията най-бързо расте. Негативен градиент ни дава посока в която фунцкията най-бързо намалява и ни води към локаен минимума на фунцкията\n",
    "- Може да се стъкне в local minimum a да има друго глобаен минимум\n"
   ]
  },
  {
   "cell_type": "code",
   "execution_count": 3,
   "metadata": {},
   "outputs": [
    {
     "data": {
      "text/plain": [
       "(0.5999999999999998, 0.1999999999999999)"
      ]
     },
     "execution_count": 3,
     "metadata": {},
     "output_type": "execute_result"
    }
   ],
   "source": [
    "import numpy as np\n",
    "def gradient_descent(X, y, lr=0.01, epochs=1000):\n",
    "    m, b = 0, 0\n",
    "    for _ in range(epochs):\n",
    "        y_pred = m*X + b\n",
    "        grad_m = -2*np.sum(X*(y - y_pred))\n",
    "        grad_b = -2*np.sum(y - y_pred)\n",
    "        m = m - lr * grad_m\n",
    "        b = b - lr * grad_b\n",
    "    return m, b\n",
    "gradient_descent(3,2)\n"
   ]
  },
  {
   "cell_type": "markdown",
   "metadata": {},
   "source": [
    "### Вероятности\n",
    "- Интервали: Вероятността е 0 когато искаме вероятност за конкретно чсило от даден интервал\n",
    "- Имаме вероятност ако искаме интервал в интервал, нищо че е безкрайност \n",
    "- Визуализиране на случайна променлива се прави с хистограма\n",
    "### Комбинаторика\n",
    "- Приети факти: Всяко събитие има равна вероятност да се случи и краен брой възможни изходи\n",
    "- С повторение и без повторение / подредени или неподредени\n",
    "- Взимане на топки от кош (с връщане и без / номерирани и не)\n",
    "- Събиране: m + n (когато се избират елементи от две множества не по едно и също време) посещение на 3 + 2 магазина \n",
    "- Умножение: m x n (когато двете събития се случват еднослед друго ) комбинация между 3 чифта дънки с 2 тениски \n",
    "при умножението може да се направи дърво ( хвърляне на монета 1/2 x 1/2 x 1/2 = 1/8)\n",
    "\n",
    "    ### Пермутации\n",
    "    - Подредени без поветорение, редът има значение\n",
    "    - n!\n",
    "    ### Вариации\n",
    "    - Подредени subst от n елементи\n",
    "    - $n! / (n - k)!$\n",
    "    ### Комбинации\n",
    "    - Неподредени събсет от n елементи\n",
    "    - $n! / k!(n - k)!$\n",
    "    - n choose k\n",
    "### Алгебра на събития\n",
    "- Събития са множества от изходи\n",
    "1. **Union (\\( A \\cup B \\))**: This operation combines all the outcomes that are in either event \\( A \\) or event \\( B \\), or both. Think of it as the \"or\" operation.\n",
    "   - *Example*: If \\( A \\) is getting a 2 on a die and \\( B \\) is getting an odd number, \\( A \\cup B \\) would include {1, 2, 3, 5}.\n",
    "\n",
    "2. **Intersection (\\( A \\cap B \\))**: This operation includes only the outcomes that are in both events \\( A \\) and \\( B \\). Think of it as the \"and\" operation.\n",
    "   - *Example*: If \\( A \\) is rolling less than 4 and \\( B \\) is rolling an odd number, \\( A \\cap B \\) would be {1, 3}.\n",
    "\n",
    "3. **Complement (\\( A' \\))**: This operation includes all the outcomes that are *not* in event \\( A \\).\n",
    "   - *Example*: If \\( A \\) is rolling an odd number, \\( A' \\) would be rolling an even number, or {2, 4, 6}.\n",
    "\n",
    "\n",
    "### Condtional Probablity\n",
    "- Вероятността да се случи събитие А при условие че се случи събитие B\n",
    "- $P(A|B) = \\frac{P(A \\cap B)}{P(B)}$\n",
    "\n",
    "   Пример: Вероятността да изтеглиш Асо като си изтеглил червена карта:\n",
    "\n",
    "- Събитие B: Изтегляне на червена карта (1/2)\n",
    "- Събитие A и B: Изтегляне на червено Асо (2/52) двете събития да се случат \n",
    "- $P(A|B) = \\frac{P(A \\cap B)}{P(B)} = \\frac{2/52}{1/2} = 1/13$\n",
    "\n",
    "   Пример: Вероятността един човек да е болен при 99% точност на теста от болест която засяга 1% от населението\n",
    "   - $P(A \\cap B)$  AВероятност да е от тези 1% и да има заболяването (сечение на А и B) = 0.01×0.99=0.0099\n",
    "   - $P(B)$ Вероятност да е положителен тест по принцип, по-сложна ситуация:\n",
    "      - Вероятноста за позитиве тест е сбор на $P(A).P(A \\cap B)$ + false positive $P(A').P(B \\cap A')$ = 0.99+0.99×0.01=0.0099+0.0099=0.0198\n",
    "   - $P(A|B) = \\frac{P(A \\cap B)}{P(B)} = \\frac{0.0099}{0.0198} = 0.5$"
   ]
  },
  {
   "cell_type": "markdown",
   "metadata": {},
   "source": [
    "### Bayes Theorem (обновяване на вероятността след като се получи нова информация)\n",
    "- $P(A|B) = \\frac{P(B|A).P(A)}{P(B)}$ \n",
    "Пример: \n",
    "- 70% от съобщенията са от Алис, а 30% от Боб\n",
    "- 80% от съобщенията на Алис са с думата \"привет\", а 40% от съобщенията на Боб са с думата \"привет\"\n",
    "Получаваш съобщение с думата привет каква е вероятността да е от Алис?\n",
    "- $P(A) = 0.7$\n",
    "- $P(B|A) = 0.8$\n",
    "- $P(B)$ подобно съобщение от двамата е: $P(B|A).P(A) + P(B|B).P(B) = 0.7*0.8 + 0.3*0.4 = 0.68$\n",
    "- $P(A|B) = \\frac{0.8*0.7}{0.62} = 0.82$\n",
    "\n"
   ]
  },
  {
   "cell_type": "markdown",
   "metadata": {},
   "source": [
    "## Statistics \n",
    "- Ace DataScience interview\n",
    "\n",
    "distributions, statistical testing, regression\n",
    "\n",
    "1. Descriptive Statistics - mean, median, mode, variance\n",
    "2. Inferential Statistics - hypothesis testing, confidence intervals\n",
    "3. Bayesian Statistics - prior and posterior distributions\n",
    "\n",
    "‘Data scientists use statistics in\n",
    "almost everything they do’\n",
    "\n",
    "- One could argue that Machine learning is a separate field, but it is actually an iterative, programmatically efficient application of statistics\n",
    "- Data visualizations also could fall under the umbrella of descriptive statistics. After all, a visualization\n",
    "usually aims to describe the distribution of a variable\n",
    "or the interconnection of several different variables.\n",
    "\n"
   ]
  },
  {
   "cell_type": "markdown",
   "metadata": {},
   "source": [
    "### Разпределения \n",
    "- PMF and CMF (Probability Mass Function and Cumulative Mass Function) Дискретни разпределения crabs: 2 зарчета \n",
    "- Разпределение на Бернули: \n",
    "    - 1 изход (успех) с вероятност p\n",
    "    - 0 изход (неуспех) с вероятност q = 1 - p\n",
    "    - взеимно изключващи се събития (хвърляне на монета)\n",
    "- Uniform Distribution (равномерно разпределение)\n",
    "    - Всички изходи са равно вероятни\n",
    "    - Хвърляне на зарче\n",
    "- Binomial Distribution (биномно разпределение)\n",
    "- Вероятността за Количесво успехи к в n независими опита всеки с вероятност p\n",
    "- n chooses k\n",
    "$$P(X = k) = \\binom{n}{k} \\times p^k \\times (1-p)^{(n-k)}$$\n",
    "Chance of making any single shot is 70% (or 0.7). What is the probability of making exactly 3 out of 5 free throws?\n",
    "    $$P(X = 3) = \\binom{5}{3} \\times 0.7^3 \\times (1-0.7)^{(5-3)} = 10 \\times 0.7^3 \\times 0.3^2 \\approx 0.3087$$"
   ]
  },
  {
   "cell_type": "markdown",
   "metadata": {},
   "source": [
    "#### Definition:\n",
    "\n",
    "The binomial distribution describes the number of successes in a fixed number of independent Bernoulli trials, each with the same probability of success.\n",
    "\n",
    "In simpler terms, it tells you how likely you are to have a certain number of \"successes\" in a given number of \"tries\" (trials), where each try has the same chance of being successful.\n",
    "\n",
    "1. \\( n \\) - Number of trials\n",
    "2. \\( p \\) - Probability of success in a single trial\n",
    "3. \\( k \\) - Number of successes"
   ]
  },
  {
   "attachments": {
    "image-2.png": {
     "image/png": "[encoded data removed]"
    },
    "image.png": {
     "image/png": "[encoded data removed]"
    }
   },
   "cell_type": "markdown",
   "metadata": {},
   "source": [
    "### 1. Normal distribution (Нормално разпределение)\n",
    "\n",
    "- Разпределение на Гаус (Gaussian distribution) Bell Curve.\n",
    "- Непрекъснато вероятностно разпределение (continuous probability distribution) даващо описание на случайна променлива групирани около среднта стойност. Симетрична, Описва се своите средна стойност и стандартно отклонение.\n",
    "- Природни събития: Височините на мъжете в дадена извадка.\n",
    "- PDF - Probability Density Function - Функция за плътност на вероятността.. Площта под кривата е 1. Нямаме вероятност за конкретна стойност, а за интервал от стойности.\n",
    "- CDF (Cumulative Distribution Function) Вероятността за стойност по-малка от дадена стойност. Площта под кривата до дадена стойност.\n",
    "\n",
    "![image.png](attachment:image.png)\n",
    "![image-2.png](attachment:image-2.png)\n",
    "\n",
    "- Червената е стандартното нормално разпределение\n",
    "- All normal distributions have  68-95-99.7 rule (1x,2x,3x std)\n",
    "\n",
    "- Stadard normal distribution - Стандартно нормално разпределение. Средна стойност 0 и стандартно отклонение 1.\n",
    "- Гаус предлага сцел удобство при пресмятане да се премине към стандартизиране - трансфорамция на входната величната по формулата : mu oчакваната средна стойност\n",
    "$$ z = \\frac{x - \\mu}{\\sigma} $$  \n",
    "- Z-score: Стандартизирана стойност на входната променлива. Колко стандартни отклонения е далече от средната стойност. \n"
   ]
  },
  {
   "cell_type": "markdown",
   "metadata": {},
   "source": [
    "### 2. P-value (P-стойност)\n",
    "\n",
    "- В тестване на хипотези се използва за да се определи дали резултатът е статистически значим. **Силата на доказателството против нулевата хипотеза**. Измерва колко екстремни стойности имат наблюдаваните данни от това което очакваме в случай че нулевата хипотеза е вярна.\n",
    "\n",
    "    - P-value < 0.05 - Статистически значим резултат. Нулевата хипотеза е отхвърлена.\n",
    "    - P-value > 0.05 - Не можем да отхвърлим нулевата хипотеза.\n",
    "\n",
    "- **Нулева хипотеза** ($H_0$) - Няма нищо статистически значимо, разлика или някакъв ефект \n",
    "- **Алтернативна хипотеза** ($H_1$) - Има статистически значим ефект, нещо което искаме да докажем\n",
    "- **Тестова Статистика** Пресмятане на тестова статистика (Z-score, T-score, F-score, Chi-square score) на база на наблюдаваните данни (sample) \n",
    "- Chi squared: Колко разпределенията си приличат goodnes-of-fit\n",
    "- T-test: Сравняване на средните на две извадки или на популация и извадка\n",
    "- **Тип 1 грешка** - Отхвърляме нулевата хипотеза когато тя е вярна (False Positive)\n",
    "- **Тип 2 грешка** - Приемаме нулевата хипотеза когато тя е грешна (False Negative)\n",
    "\n",
    "Example 1:\n",
    "\n",
    "    - Нулева хипотеза: Няма разлика в средната стойност Рапределение височина на мъже в даден град спрямо средната за страната (175cm)\n",
    "    \n",
    "    - Алтернативна хипотеза: Средната стойност на височината на мъжете в даден град е различна от средната за страната\n",
    "\n",
    "    - Средна на извадката 180см с стандартно отклонение 10см\n",
    "    - След пресмятане на p-value от cdf на t-score за съответната степен на свобода (degrees of freedom) в случая 49 ако сме измерили височината 50 мъже \n",
    "    \n",
    "    - След смятане на Тестова статистика: t-test:\n",
    "\n",
    "$$ t = \\frac{\\bar{x} - \\mu}{\\frac{s}{\\sqrt{n}}} $$\n",
    "$$t = \\frac{( \\text{sample mean} - \\text{population mean} )}{ (\\text{sample standard deviation} / \\sqrt{\\text{sample size}}} $$\n",
    "\n",
    "- CDF за различните степени на свобода (degrees of freedom) - броя на категориите минус 1\n",
    "\n",
    "Example 2: unfair Dice\n",
    "\n",
    "- Нулева хипотеза: Зарчето е честно\n",
    "- Алтернатива: Зарчето е нечестно\n",
    "след 600 опита се получават различни резултати за 6-те страни (100, 110, 90, 120, 80, 100)\n",
    "- Exprected: 100\n",
    "- Калкулиране на Chi-squared test: \n",
    "$$ \\chi^2 = \\sum_{i=1}^{n} \\frac{(O_i - E_i)^2}{E_i} $$\n",
    "- След получаване на реултата за X^2 се сравнява с табличната стойност на възможността за наблудаване на такъв резултат при честно зарче. 0.623 е много по голямо от 0.05, не успяваме да отхвърлим нулевата хипотеза. Няма достатъчно доказателства че зарчето е нечестно.\n",
    "\n",
    "### Confidence Intervals (Доверителен интервал)\n",
    "\n",
    "- Интервал около средната стойност на извадката в който се очаква да попадат 95% от всички възможни извадки със същия размер.\n",
    "- Намира се с помощта на буутстрапинг. 95 % доверителен интервал е интервал който покрива 95% от всички средни стойности след 10 000 bootstrap извадки. Случайно избрани с повторение извадки от популацията.\n",
    "\n",
    "![](../pic/10.jpg)\n"
   ]
  },
  {
   "cell_type": "markdown",
   "metadata": {},
   "source": [
    "### 4. Central Limit Theorem (Централна гранична теорема)\n",
    "- Even if the population is not normally distributed, the sampling distribution of the mean will be normally distributed as long as the sample size is large enough. \n",
    "- Uniform Distribution (equally likely outcomes) \n",
    "- Exponential Distribution \n",
    "![](../pic/11.jpg)\n",
    "\n",
    "### 5. Law of Large Numbers (Закон на големите числа)\n",
    "- Хвърляне на зарче . Не зависимо че първите 5 пъти е ези. След достатъчен брой хвърляния средната стойност на всички опити ще се прибицава до 0.5 ( към очакваната стойност на честно зарче) С казиното е подобно но в полза на казиното с достатъчно на брой опити "
   ]
  },
  {
   "cell_type": "markdown",
   "metadata": {},
   "source": [
    "### Ковариация (joint variablity of two variables)\n",
    "$$ cov(x,y) = \\frac{1}{n}\\sum_{i=1}^{n}(x_i - \\bar{x})(y_i - \\bar{y}) $$\n",
    "- Матрица на ковариациите (2x2)\n",
    "### Koрелация\n",
    "- делим ковариацията на стандартното за да номрмализираме като Z score\n",
    "- Pearson измерва линейната зависимост между две променливи"
   ]
  },
  {
   "cell_type": "markdown",
   "metadata": {},
   "source": []
  },
  {
   "cell_type": "markdown",
   "metadata": {},
   "source": []
  },
  {
   "cell_type": "markdown",
   "metadata": {},
   "source": []
  }
 ],
 "metadata": {
  "kernelspec": {
   "display_name": "Jupyter",
   "language": "python",
   "name": "python3"
  },
  "language_info": {
   "codemirror_mode": {
    "name": "ipython",
    "version": 3
   },
   "file_extension": ".py",
   "mimetype": "text/x-python",
   "name": "python",
   "nbconvert_exporter": "python",
   "pygments_lexer": "ipython3",
   "version": "3.10.8"
  }
 },
 "nbformat": 4,
 "nbformat_minor": 2
}
